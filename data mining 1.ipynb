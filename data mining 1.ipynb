{
  "nbformat": 4,
  "nbformat_minor": 0,
  "metadata": {
    "colab": {
      "name": "DM_HF_Ice Krisnahati_6025211028.ipynb",
      "provenance": []
    },
    "kernelspec": {
      "name": "python3",
      "display_name": "Python 3"
    },
    "language_info": {
      "name": "python"
    }
  },
  "cells": [
    {
      "cell_type": "markdown",
      "metadata": {
        "id": "W2y_hIwjgHGY"
      },
      "source": [
        "## Heart Failure Clinical Record"
      ]
    },
    {
      "cell_type": "markdown",
      "metadata": {
        "id": "ennHpibCv2HJ"
      },
      "source": [
        "Data ini merecord pasien yang memiliki riwayat gagal jantung, yang dicatat selama periode penanganan.\n",
        "\n",
        "Informasi atribut dari data yang akan dianalisa:\n",
        "\n",
        "- age: age of the patient (years)\n",
        "- anaemia: decrease of red blood cells or hemoglobin (boolean)\n",
        "- high blood pressure: if the patient has hypertension (boolean)\n",
        "- creatinine phosphokinase (CPK): level of the CPK enzyme in the - blood (mcg/L)\n",
        "- diabetes: if the patient has diabetes (boolean)\n",
        "- ejection fraction: percentage of blood leaving the heart at each contraction (percentage)\n",
        "- platelets: platelets in the blood (kiloplatelets/mL)\n",
        "- sex: woman or man (binary)\n",
        "- serum creatinine: level of serum creatinine in the blood (mg/dL)\n",
        "- serum sodium: level of serum sodium in the blood (mEq/L)\n",
        "- smoking: if the patient smokes or not (boolean)\n",
        "- time: follow-up period (days)\n",
        "- death event: if the patient deceased during the follow-up period (boolean)"
      ]
    },
    {
      "cell_type": "code",
      "metadata": {
        "id": "qrvTHHe5tCA0"
      },
      "source": [
        "import pandas as pd\n",
        "\n",
        "df=pd.read_csv(\"https://archive.ics.uci.edu/ml/machine-learning-databases/00519/heart_failure_clinical_records_dataset.csv\", sep=\",\")\n"
      ],
      "execution_count": 1,
      "outputs": []
    },
    {
      "cell_type": "code",
      "metadata": {
        "colab": {
          "base_uri": "https://localhost:8080/"
        },
        "id": "GTLccc0f2HQ7",
        "outputId": "344f1437-6cb1-4900-d0ab-1ad4eda15cf7"
      },
      "source": [
        "df.shape"
      ],
      "execution_count": null,
      "outputs": [
        {
          "output_type": "execute_result",
          "data": {
            "text/plain": [
              "(299, 13)"
            ]
          },
          "metadata": {},
          "execution_count": 37
        }
      ]
    },
    {
      "cell_type": "code",
      "metadata": {
        "colab": {
          "base_uri": "https://localhost:8080/"
        },
        "id": "p04NmpT_grXc",
        "outputId": "9e5be7ca-841c-4222-e091-fcf31a977d7b"
      },
      "source": [
        "df.dtypes"
      ],
      "execution_count": null,
      "outputs": [
        {
          "output_type": "execute_result",
          "data": {
            "text/plain": [
              "age                         float64\n",
              "anaemia                       int64\n",
              "creatinine_phosphokinase      int64\n",
              "diabetes                      int64\n",
              "ejection_fraction             int64\n",
              "high_blood_pressure           int64\n",
              "platelets                   float64\n",
              "serum_creatinine            float64\n",
              "serum_sodium                  int64\n",
              "sex                           int64\n",
              "smoking                       int64\n",
              "time                          int64\n",
              "DEATH_EVENT                   int64\n",
              "dtype: object"
            ]
          },
          "metadata": {},
          "execution_count": 4
        }
      ]
    },
    {
      "cell_type": "code",
      "metadata": {
        "colab": {
          "base_uri": "https://localhost:8080/"
        },
        "id": "jVE9vtcawlP3",
        "outputId": "8b48960d-c511-4e10-9296-99172df71b83"
      },
      "source": [
        "df.info()"
      ],
      "execution_count": null,
      "outputs": [
        {
          "output_type": "stream",
          "name": "stdout",
          "text": [
            "<class 'pandas.core.frame.DataFrame'>\n",
            "RangeIndex: 299 entries, 0 to 298\n",
            "Data columns (total 13 columns):\n",
            " #   Column                    Non-Null Count  Dtype  \n",
            "---  ------                    --------------  -----  \n",
            " 0   age                       299 non-null    float64\n",
            " 1   anaemia                   299 non-null    int64  \n",
            " 2   creatinine_phosphokinase  299 non-null    int64  \n",
            " 3   diabetes                  299 non-null    int64  \n",
            " 4   ejection_fraction         299 non-null    int64  \n",
            " 5   high_blood_pressure       299 non-null    int64  \n",
            " 6   platelets                 299 non-null    float64\n",
            " 7   serum_creatinine          299 non-null    float64\n",
            " 8   serum_sodium              299 non-null    int64  \n",
            " 9   sex                       299 non-null    int64  \n",
            " 10  smoking                   299 non-null    int64  \n",
            " 11  time                      299 non-null    int64  \n",
            " 12  DEATH_EVENT               299 non-null    int64  \n",
            "dtypes: float64(3), int64(10)\n",
            "memory usage: 30.5 KB\n"
          ]
        }
      ]
    },
    {
      "cell_type": "code",
      "metadata": {
        "colab": {
          "base_uri": "https://localhost:8080/",
          "height": 224
        },
        "id": "cRgjpPuKgmtv",
        "outputId": "a4bf59f0-e9f1-4359-f30d-7ff0faeabd0d"
      },
      "source": [
        "df.head()"
      ],
      "execution_count": null,
      "outputs": [
        {
          "output_type": "execute_result",
          "data": {
            "text/html": [
              "<div>\n",
              "<style scoped>\n",
              "    .dataframe tbody tr th:only-of-type {\n",
              "        vertical-align: middle;\n",
              "    }\n",
              "\n",
              "    .dataframe tbody tr th {\n",
              "        vertical-align: top;\n",
              "    }\n",
              "\n",
              "    .dataframe thead th {\n",
              "        text-align: right;\n",
              "    }\n",
              "</style>\n",
              "<table border=\"1\" class=\"dataframe\">\n",
              "  <thead>\n",
              "    <tr style=\"text-align: right;\">\n",
              "      <th></th>\n",
              "      <th>age</th>\n",
              "      <th>anaemia</th>\n",
              "      <th>creatinine_phosphokinase</th>\n",
              "      <th>diabetes</th>\n",
              "      <th>ejection_fraction</th>\n",
              "      <th>high_blood_pressure</th>\n",
              "      <th>platelets</th>\n",
              "      <th>serum_creatinine</th>\n",
              "      <th>serum_sodium</th>\n",
              "      <th>sex</th>\n",
              "      <th>smoking</th>\n",
              "      <th>time</th>\n",
              "      <th>DEATH_EVENT</th>\n",
              "    </tr>\n",
              "  </thead>\n",
              "  <tbody>\n",
              "    <tr>\n",
              "      <th>0</th>\n",
              "      <td>75.0</td>\n",
              "      <td>0</td>\n",
              "      <td>582</td>\n",
              "      <td>0</td>\n",
              "      <td>20</td>\n",
              "      <td>1</td>\n",
              "      <td>265000.00</td>\n",
              "      <td>1.9</td>\n",
              "      <td>130</td>\n",
              "      <td>1</td>\n",
              "      <td>0</td>\n",
              "      <td>4</td>\n",
              "      <td>1</td>\n",
              "    </tr>\n",
              "    <tr>\n",
              "      <th>1</th>\n",
              "      <td>55.0</td>\n",
              "      <td>0</td>\n",
              "      <td>7861</td>\n",
              "      <td>0</td>\n",
              "      <td>38</td>\n",
              "      <td>0</td>\n",
              "      <td>263358.03</td>\n",
              "      <td>1.1</td>\n",
              "      <td>136</td>\n",
              "      <td>1</td>\n",
              "      <td>0</td>\n",
              "      <td>6</td>\n",
              "      <td>1</td>\n",
              "    </tr>\n",
              "    <tr>\n",
              "      <th>2</th>\n",
              "      <td>65.0</td>\n",
              "      <td>0</td>\n",
              "      <td>146</td>\n",
              "      <td>0</td>\n",
              "      <td>20</td>\n",
              "      <td>0</td>\n",
              "      <td>162000.00</td>\n",
              "      <td>1.3</td>\n",
              "      <td>129</td>\n",
              "      <td>1</td>\n",
              "      <td>1</td>\n",
              "      <td>7</td>\n",
              "      <td>1</td>\n",
              "    </tr>\n",
              "    <tr>\n",
              "      <th>3</th>\n",
              "      <td>50.0</td>\n",
              "      <td>1</td>\n",
              "      <td>111</td>\n",
              "      <td>0</td>\n",
              "      <td>20</td>\n",
              "      <td>0</td>\n",
              "      <td>210000.00</td>\n",
              "      <td>1.9</td>\n",
              "      <td>137</td>\n",
              "      <td>1</td>\n",
              "      <td>0</td>\n",
              "      <td>7</td>\n",
              "      <td>1</td>\n",
              "    </tr>\n",
              "    <tr>\n",
              "      <th>4</th>\n",
              "      <td>65.0</td>\n",
              "      <td>1</td>\n",
              "      <td>160</td>\n",
              "      <td>1</td>\n",
              "      <td>20</td>\n",
              "      <td>0</td>\n",
              "      <td>327000.00</td>\n",
              "      <td>2.7</td>\n",
              "      <td>116</td>\n",
              "      <td>0</td>\n",
              "      <td>0</td>\n",
              "      <td>8</td>\n",
              "      <td>1</td>\n",
              "    </tr>\n",
              "  </tbody>\n",
              "</table>\n",
              "</div>"
            ],
            "text/plain": [
              "    age  anaemia  creatinine_phosphokinase  ...  smoking  time  DEATH_EVENT\n",
              "0  75.0        0                       582  ...        0     4            1\n",
              "1  55.0        0                      7861  ...        0     6            1\n",
              "2  65.0        0                       146  ...        1     7            1\n",
              "3  50.0        1                       111  ...        0     7            1\n",
              "4  65.0        1                       160  ...        0     8            1\n",
              "\n",
              "[5 rows x 13 columns]"
            ]
          },
          "metadata": {},
          "execution_count": 2
        }
      ]
    },
    {
      "cell_type": "code",
      "metadata": {
        "colab": {
          "base_uri": "https://localhost:8080/",
          "height": 452
        },
        "id": "iT3Qcu58z6BM",
        "outputId": "7666fe5b-e275-4d1f-99cc-47f39ba6209e"
      },
      "source": [
        "df.describe().transpose()"
      ],
      "execution_count": null,
      "outputs": [
        {
          "output_type": "execute_result",
          "data": {
            "text/html": [
              "<div>\n",
              "<style scoped>\n",
              "    .dataframe tbody tr th:only-of-type {\n",
              "        vertical-align: middle;\n",
              "    }\n",
              "\n",
              "    .dataframe tbody tr th {\n",
              "        vertical-align: top;\n",
              "    }\n",
              "\n",
              "    .dataframe thead th {\n",
              "        text-align: right;\n",
              "    }\n",
              "</style>\n",
              "<table border=\"1\" class=\"dataframe\">\n",
              "  <thead>\n",
              "    <tr style=\"text-align: right;\">\n",
              "      <th></th>\n",
              "      <th>count</th>\n",
              "      <th>mean</th>\n",
              "      <th>std</th>\n",
              "      <th>min</th>\n",
              "      <th>25%</th>\n",
              "      <th>50%</th>\n",
              "      <th>75%</th>\n",
              "      <th>max</th>\n",
              "    </tr>\n",
              "  </thead>\n",
              "  <tbody>\n",
              "    <tr>\n",
              "      <th>age</th>\n",
              "      <td>299.0</td>\n",
              "      <td>60.833893</td>\n",
              "      <td>11.894809</td>\n",
              "      <td>40.0</td>\n",
              "      <td>51.0</td>\n",
              "      <td>60.0</td>\n",
              "      <td>70.0</td>\n",
              "      <td>95.0</td>\n",
              "    </tr>\n",
              "    <tr>\n",
              "      <th>anaemia</th>\n",
              "      <td>299.0</td>\n",
              "      <td>0.431438</td>\n",
              "      <td>0.496107</td>\n",
              "      <td>0.0</td>\n",
              "      <td>0.0</td>\n",
              "      <td>0.0</td>\n",
              "      <td>1.0</td>\n",
              "      <td>1.0</td>\n",
              "    </tr>\n",
              "    <tr>\n",
              "      <th>creatinine_phosphokinase</th>\n",
              "      <td>299.0</td>\n",
              "      <td>581.839465</td>\n",
              "      <td>970.287881</td>\n",
              "      <td>23.0</td>\n",
              "      <td>116.5</td>\n",
              "      <td>250.0</td>\n",
              "      <td>582.0</td>\n",
              "      <td>7861.0</td>\n",
              "    </tr>\n",
              "    <tr>\n",
              "      <th>diabetes</th>\n",
              "      <td>299.0</td>\n",
              "      <td>0.418060</td>\n",
              "      <td>0.494067</td>\n",
              "      <td>0.0</td>\n",
              "      <td>0.0</td>\n",
              "      <td>0.0</td>\n",
              "      <td>1.0</td>\n",
              "      <td>1.0</td>\n",
              "    </tr>\n",
              "    <tr>\n",
              "      <th>ejection_fraction</th>\n",
              "      <td>299.0</td>\n",
              "      <td>38.083612</td>\n",
              "      <td>11.834841</td>\n",
              "      <td>14.0</td>\n",
              "      <td>30.0</td>\n",
              "      <td>38.0</td>\n",
              "      <td>45.0</td>\n",
              "      <td>80.0</td>\n",
              "    </tr>\n",
              "    <tr>\n",
              "      <th>high_blood_pressure</th>\n",
              "      <td>299.0</td>\n",
              "      <td>0.351171</td>\n",
              "      <td>0.478136</td>\n",
              "      <td>0.0</td>\n",
              "      <td>0.0</td>\n",
              "      <td>0.0</td>\n",
              "      <td>1.0</td>\n",
              "      <td>1.0</td>\n",
              "    </tr>\n",
              "    <tr>\n",
              "      <th>platelets</th>\n",
              "      <td>299.0</td>\n",
              "      <td>263358.029264</td>\n",
              "      <td>97804.236869</td>\n",
              "      <td>25100.0</td>\n",
              "      <td>212500.0</td>\n",
              "      <td>262000.0</td>\n",
              "      <td>303500.0</td>\n",
              "      <td>850000.0</td>\n",
              "    </tr>\n",
              "    <tr>\n",
              "      <th>serum_creatinine</th>\n",
              "      <td>299.0</td>\n",
              "      <td>1.393880</td>\n",
              "      <td>1.034510</td>\n",
              "      <td>0.5</td>\n",
              "      <td>0.9</td>\n",
              "      <td>1.1</td>\n",
              "      <td>1.4</td>\n",
              "      <td>9.4</td>\n",
              "    </tr>\n",
              "    <tr>\n",
              "      <th>serum_sodium</th>\n",
              "      <td>299.0</td>\n",
              "      <td>136.625418</td>\n",
              "      <td>4.412477</td>\n",
              "      <td>113.0</td>\n",
              "      <td>134.0</td>\n",
              "      <td>137.0</td>\n",
              "      <td>140.0</td>\n",
              "      <td>148.0</td>\n",
              "    </tr>\n",
              "    <tr>\n",
              "      <th>sex</th>\n",
              "      <td>299.0</td>\n",
              "      <td>0.648829</td>\n",
              "      <td>0.478136</td>\n",
              "      <td>0.0</td>\n",
              "      <td>0.0</td>\n",
              "      <td>1.0</td>\n",
              "      <td>1.0</td>\n",
              "      <td>1.0</td>\n",
              "    </tr>\n",
              "    <tr>\n",
              "      <th>smoking</th>\n",
              "      <td>299.0</td>\n",
              "      <td>0.321070</td>\n",
              "      <td>0.467670</td>\n",
              "      <td>0.0</td>\n",
              "      <td>0.0</td>\n",
              "      <td>0.0</td>\n",
              "      <td>1.0</td>\n",
              "      <td>1.0</td>\n",
              "    </tr>\n",
              "    <tr>\n",
              "      <th>time</th>\n",
              "      <td>299.0</td>\n",
              "      <td>130.260870</td>\n",
              "      <td>77.614208</td>\n",
              "      <td>4.0</td>\n",
              "      <td>73.0</td>\n",
              "      <td>115.0</td>\n",
              "      <td>203.0</td>\n",
              "      <td>285.0</td>\n",
              "    </tr>\n",
              "    <tr>\n",
              "      <th>DEATH_EVENT</th>\n",
              "      <td>299.0</td>\n",
              "      <td>0.321070</td>\n",
              "      <td>0.467670</td>\n",
              "      <td>0.0</td>\n",
              "      <td>0.0</td>\n",
              "      <td>0.0</td>\n",
              "      <td>1.0</td>\n",
              "      <td>1.0</td>\n",
              "    </tr>\n",
              "  </tbody>\n",
              "</table>\n",
              "</div>"
            ],
            "text/plain": [
              "                          count           mean  ...       75%       max\n",
              "age                       299.0      60.833893  ...      70.0      95.0\n",
              "anaemia                   299.0       0.431438  ...       1.0       1.0\n",
              "creatinine_phosphokinase  299.0     581.839465  ...     582.0    7861.0\n",
              "diabetes                  299.0       0.418060  ...       1.0       1.0\n",
              "ejection_fraction         299.0      38.083612  ...      45.0      80.0\n",
              "high_blood_pressure       299.0       0.351171  ...       1.0       1.0\n",
              "platelets                 299.0  263358.029264  ...  303500.0  850000.0\n",
              "serum_creatinine          299.0       1.393880  ...       1.4       9.4\n",
              "serum_sodium              299.0     136.625418  ...     140.0     148.0\n",
              "sex                       299.0       0.648829  ...       1.0       1.0\n",
              "smoking                   299.0       0.321070  ...       1.0       1.0\n",
              "time                      299.0     130.260870  ...     203.0     285.0\n",
              "DEATH_EVENT               299.0       0.321070  ...       1.0       1.0\n",
              "\n",
              "[13 rows x 8 columns]"
            ]
          },
          "metadata": {},
          "execution_count": 32
        }
      ]
    },
    {
      "cell_type": "markdown",
      "metadata": {
        "id": "cHjuTP7s2j7v"
      },
      "source": [
        "### Data Visualisation"
      ]
    },
    {
      "cell_type": "code",
      "metadata": {
        "colab": {
          "base_uri": "https://localhost:8080/",
          "height": 410
        },
        "id": "gJtE2_IR0Eji",
        "outputId": "89c06a85-b77f-420a-ec2d-2e6d1485c2bd"
      },
      "source": [
        "import seaborn as sns\n",
        "sns.set(rc={'figure.figsize':(10,5)})\n",
        "sns.countplot(df['DEATH_EVENT'])"
      ],
      "execution_count": null,
      "outputs": [
        {
          "output_type": "stream",
          "name": "stderr",
          "text": [
            "/usr/local/lib/python3.7/dist-packages/seaborn/_decorators.py:43: FutureWarning: Pass the following variable as a keyword arg: x. From version 0.12, the only valid positional argument will be `data`, and passing other arguments without an explicit keyword will result in an error or misinterpretation.\n",
            "  FutureWarning\n"
          ]
        },
        {
          "output_type": "execute_result",
          "data": {
            "text/plain": [
              "<matplotlib.axes._subplots.AxesSubplot at 0x7f87445cd090>"
            ]
          },
          "metadata": {},
          "execution_count": 34
        },
        {
          "output_type": "display_data",
          "data": {
            "image/png": "[encoded data removed]",
            "text/plain": [
              "<Figure size 720x360 with 1 Axes>"
            ]
          },
          "metadata": {}
        }
      ]
    },
    {
      "cell_type": "code",
      "metadata": {
        "id": "yfiqaE0E0e6Y"
      },
      "source": [
        "import matplotlib.pyplot as plt \n",
        "from mpl_toolkits.mplot3d import Axes3D \n",
        "%matplotlib inline"
      ],
      "execution_count": null,
      "outputs": []
    },
    {
      "cell_type": "code",
      "metadata": {
        "colab": {
          "base_uri": "https://localhost:8080/",
          "height": 981
        },
        "id": "aQKgbEsZ0hZr",
        "outputId": "f1c12534-bd3c-46ea-da53-8ec575daa178"
      },
      "source": [
        "fig = df.hist(bins=15, color='salmon', edgecolor='indianred',\n",
        "linewidth=1.0, xlabelsize=10, ylabelsize=10, xrot=45, yrot=0,\n",
        "figsize=(10,9), grid=False)\n",
        "plt.tight_layout(rect=(0, 0, 1.5, 1.5))"
      ],
      "execution_count": null,
      "outputs": [
        {
          "output_type": "display_data",
          "data": {
            "image/png": "[encoded data removed]",
            "text/plain": [
              "<Figure size 720x648 with 16 Axes>"
            ]
          },
          "metadata": {
            "needs_background": "light"
          }
        }
      ]
    },
    {
      "cell_type": "code",
      "metadata": {
        "id": "mPr4LCUHtMzx"
      },
      "source": [
        "X=df.iloc[:,:-1]\n",
        "Y=df['DEATH_EVENT']\n"
      ],
      "execution_count": 4,
      "outputs": []
    },
    {
      "cell_type": "markdown",
      "metadata": {
        "id": "rkLiQMQWgzhF"
      },
      "source": [
        "Split data"
      ]
    },
    {
      "cell_type": "code",
      "metadata": {
        "id": "UG3J1DcJtPy1"
      },
      "source": [
        "from sklearn.model_selection import train_test_split\n",
        "\n",
        "x_train,x_test,y_train,y_test=train_test_split(X,Y,test_size=0.20,random_state=42)"
      ],
      "execution_count": 5,
      "outputs": []
    },
    {
      "cell_type": "code",
      "metadata": {
        "id": "x6FKSENhZZyi"
      },
      "source": [
        "from sklearn.preprocessing import StandardScaler\n",
        "scaler = StandardScaler()\n",
        "# Fit only to the training data\n",
        "scaler.fit(x_train)\n",
        "# Now apply the transformations to the data:\n",
        "x_train = scaler.transform(x_train)\n",
        "x_test = scaler.transform(x_test)"
      ],
      "execution_count": 6,
      "outputs": []
    },
    {
      "cell_type": "code",
      "metadata": {
        "id": "E5xqcz7XtSRi"
      },
      "source": [
        "from sklearn.metrics import accuracy_score\n",
        "import matplotlib.pyplot as plt\n"
      ],
      "execution_count": 13,
      "outputs": []
    },
    {
      "cell_type": "markdown",
      "metadata": {
        "id": "tq9SnBFrgRuC"
      },
      "source": [
        "### SVM Linear"
      ]
    },
    {
      "cell_type": "code",
      "metadata": {
        "colab": {
          "base_uri": "https://localhost:8080/",
          "height": 409
        },
        "id": "wRRSYnQVtU7G",
        "outputId": "3a826938-7ca3-4168-f36f-7e71fdb3f20e"
      },
      "source": [
        "from sklearn import linear_model\n",
        "from sklearn.svm import SVC\n",
        "\n",
        "C = [0.01, 0.1, 0.2, 0.5, 0.8, 1, 5, 10, 20, 50]\n",
        "LRtrainAcc = []\n",
        "LRtestAcc = []\n",
        "SVMtrainAcc = []\n",
        "SVMtestAcc = []\n",
        "\n",
        "for param in C:\n",
        "    clf = linear_model.LogisticRegression(C=param)\n",
        "    clf.fit(x_train, y_train)\n",
        "    y_predTrain = clf.predict(x_train)\n",
        "    y_predTest = clf.predict(x_test)\n",
        "    LRtrainAcc.append(accuracy_score(y_train, y_predTrain))\n",
        "    LRtestAcc.append(accuracy_score(y_test, y_predTest))\n",
        "\n",
        "    clf = SVC(C=param,kernel='linear')\n",
        "    clf.fit(x_train, y_train)\n",
        "    y_predTrain = clf.predict(x_train)\n",
        "    y_predTest = clf.predict(x_test)\n",
        "    SVMtrainAcc.append(accuracy_score(y_train, y_predTrain))\n",
        "    SVMtestAcc.append(accuracy_score(y_test, y_predTest))\n",
        "\n",
        "fig, (ax1, ax2) = plt.subplots(1, 2, figsize=(12,6))\n",
        "ax1.plot(C, LRtrainAcc, 'ro-', C, LRtestAcc,'bv--')\n",
        "ax1.legend(['Training Accuracy','Test Accuracy'])\n",
        "ax1.set_xlabel('C')\n",
        "ax1.set_xscale('log')\n",
        "ax1.set_ylabel('Accuracy')\n",
        "\n",
        "ax2.plot(C, SVMtrainAcc, 'ro-', C, SVMtestAcc,'bv--')\n",
        "ax2.legend(['Training Accuracy','Test Accuracy'])\n",
        "ax2.set_xlabel('C')\n",
        "ax2.set_xscale('log')\n",
        "ax2.set_ylabel('Accuracy')"
      ],
      "execution_count": null,
      "outputs": [
        {
          "output_type": "execute_result",
          "data": {
            "text/plain": [
              "Text(0, 0.5, 'Accuracy')"
            ]
          },
          "metadata": {},
          "execution_count": 9
        },
        {
          "output_type": "display_data",
          "data": {
            "image/png": "[encoded data removed]",
            "text/plain": [
              "<Figure size 864x432 with 2 Axes>"
            ]
          },
          "metadata": {
            "needs_background": "light"
          }
        }
      ]
    },
    {
      "cell_type": "markdown",
      "metadata": {
        "id": "1oC_t_BLgXJp"
      },
      "source": [
        "### SVM NonLinear"
      ]
    },
    {
      "cell_type": "code",
      "metadata": {
        "colab": {
          "base_uri": "https://localhost:8080/",
          "height": 300
        },
        "id": "vucNfegc1m5I",
        "outputId": "fe0ba545-a3d8-4627-ca77-90a8d32becd1"
      },
      "source": [
        "from sklearn.svm import SVC\n",
        "\n",
        "C = [0.01, 0.1, 0.2, 0.5, 0.8, 1, 5, 10, 20, 50]\n",
        "SVMtrainAcc = []\n",
        "SVMtestAcc = []\n",
        "\n",
        "for param in C:\n",
        "    clf = SVC(C=param,kernel='rbf',gamma='auto')\n",
        "    clf.fit(x_train, y_train)\n",
        "    y_predTrain = clf.predict(x_train)\n",
        "    y_predTest = clf.predict(x_test)\n",
        "    SVMtrainAcc.append(accuracy_score(y_train, y_predTrain))\n",
        "    SVMtestAcc.append(accuracy_score(y_test, y_predTest))\n",
        "\n",
        "plt.plot(C, SVMtrainAcc, 'ro-', C, SVMtestAcc,'bv--')\n",
        "plt.legend(['Training Accuracy','Test Accuracy'])\n",
        "plt.xlabel('C')\n",
        "plt.xscale('log')\n",
        "plt.ylabel('Accuracy')"
      ],
      "execution_count": null,
      "outputs": [
        {
          "output_type": "execute_result",
          "data": {
            "text/plain": [
              "Text(0, 0.5, 'Accuracy')"
            ]
          },
          "metadata": {},
          "execution_count": 10
        },
        {
          "output_type": "display_data",
          "data": {
            "image/png": "[encoded data removed]",
            "text/plain": [
              "<Figure size 432x288 with 1 Axes>"
            ]
          },
          "metadata": {
            "needs_background": "light"
          }
        }
      ]
    },
    {
      "cell_type": "markdown",
      "metadata": {
        "id": "IynD8qrsgckN"
      },
      "source": [
        "### ANN"
      ]
    },
    {
      "cell_type": "code",
      "metadata": {
        "colab": {
          "base_uri": "https://localhost:8080/"
        },
        "id": "emblDewZAy_q",
        "outputId": "e8bf51c7-f366-4d53-b5fc-e8e8a8d19c4e"
      },
      "source": [
        "from sklearn.neural_network import MLPClassifier\n",
        "mlp = MLPClassifier(hidden_layer_sizes=(150,100,50),\n",
        "                        max_iter = 300,activation = 'relu',\n",
        "                        solver = 'adam')\n",
        "\n",
        "mlp.fit(x_train,y_train)\n",
        "predict_test = mlp.predict(x_test)\n",
        "\n",
        "print('Accuracy: {:.2f}'.format(accuracy_score(y_test, predict_test)))"
      ],
      "execution_count": 21,
      "outputs": [
        {
          "output_type": "stream",
          "name": "stdout",
          "text": [
            "Accuracy: 0.68\n"
          ]
        }
      ]
    },
    {
      "cell_type": "code",
      "metadata": {
        "colab": {
          "base_uri": "https://localhost:8080/",
          "height": 296
        },
        "id": "-6ODHwbAxVfQ",
        "outputId": "118a81a1-3553-456c-85b0-b22ce920d7d7"
      },
      "source": [
        "from sklearn.neighbors import KNeighborsClassifier\n",
        "import matplotlib.pyplot as plt\n",
        "%matplotlib inline\n",
        "\n",
        "numNeighbors = [1, 5, 10, 15, 20, 25, 30]\n",
        "trainAcc = []\n",
        "testAcc = []\n",
        "\n",
        "for k in numNeighbors:\n",
        "    clf = KNeighborsClassifier(n_neighbors=k, metric='minkowski', p=2)\n",
        "    clf.fit(x_train, y_train)\n",
        "    y_predTrain = clf.predict(x_train)\n",
        "    y_predTest = clf.predict(x_test)\n",
        "    trainAcc.append(accuracy_score(y_train, y_predTrain))\n",
        "    testAcc.append(accuracy_score(y_test, y_predTest))\n",
        "\n",
        "plt.plot(numNeighbors, trainAcc, 'ro-', numNeighbors, testAcc,'bv--')\n",
        "plt.legend(['Training Accuracy','Test Accuracy'])\n",
        "plt.xlabel('Number of neighbors')\n",
        "plt.ylabel('Accuracy')"
      ],
      "execution_count": 9,
      "outputs": [
        {
          "output_type": "execute_result",
          "data": {
            "text/plain": [
              "Text(0, 0.5, 'Accuracy')"
            ]
          },
          "metadata": {},
          "execution_count": 9
        },
        {
          "output_type": "display_data",
          "data": {
            "image/png": "[encoded data removed]",
            "text/plain": [
              "<Figure size 432x288 with 1 Axes>"
            ]
          },
          "metadata": {
            "needs_background": "light"
          }
        }
      ]
    },
    {
      "cell_type": "code",
      "metadata": {
        "id": "NtLhrZ8b7pZA"
      },
      "source": [
        "from sklearn.linear_model import LogisticRegression\n",
        "from sklearn.svm import LinearSVC,SVC\n",
        "from sklearn.neighbors import KNeighborsClassifier\n",
        "from sklearn.ensemble import RandomForestClassifier,GradientBoostingClassifier,AdaBoostClassifier\n",
        "from sklearn.tree import DecisionTreeClassifier\n",
        "from sklearn.naive_bayes import GaussianNB\n",
        "from sklearn.neural_network import MLPClassifier\n",
        "from sklearn.model_selection import train_test_split,cross_validate\n",
        "from sklearn.preprocessing import MinMaxScaler,StandardScaler,LabelEncoder\n",
        "from sklearn.metrics import accuracy_score,precision_score,recall_score,f1_score\n",
        "\n",
        "models=[LogisticRegression(),\n",
        "  LinearSVC(),\n",
        "  SVC(kernel='rbf'),\n",
        "  KNeighborsClassifier(),\n",
        "  RandomForestClassifier(),\n",
        "  DecisionTreeClassifier(),\n",
        "  GradientBoostingClassifier(),\n",
        "  MLPClassifier(),\n",
        "  GaussianNB(),\n",
        "  AdaBoostClassifier()\n",
        "  ]\n",
        "model_names=['LogisticRegression','LinearSVM','rbfSVM',\n",
        "'KNearestNeighbors', 'RandomForestClassifier', 'DecisionTree',\n",
        "'GradientBoostingClassifier','ANN', 'GaussianNB','AdaBoostClassifier']"
      ],
      "execution_count": 46,
      "outputs": []
    },
    {
      "cell_type": "code",
      "metadata": {
        "colab": {
          "base_uri": "https://localhost:8080/"
        },
        "id": "giQ66DXe70mL",
        "outputId": "57133cca-3c9b-45da-8fe3-6624183b9046"
      },
      "source": [
        "acc=[]\n",
        "eval_acc={}\n",
        "for model in range(len(models)):\n",
        "  classification_model=models[model]\n",
        "  classification_model.fit(x_train,y_train)\n",
        "  pred=classification_model.predict(x_test)\n",
        "  acc.append(accuracy_score(pred,y_test))\n",
        "eval_acc={'Modelling Algorithm':model_names,'Accuracy':acc}\n",
        "eval_acc  "
      ],
      "execution_count": 12,
      "outputs": [
        {
          "output_type": "stream",
          "name": "stderr",
          "text": [
            "/usr/local/lib/python3.7/dist-packages/sklearn/svm/_base.py:947: ConvergenceWarning: Liblinear failed to converge, increase the number of iterations.\n",
            "  \"the number of iterations.\", ConvergenceWarning)\n",
            "/usr/local/lib/python3.7/dist-packages/sklearn/neural_network/_multilayer_perceptron.py:571: ConvergenceWarning: Stochastic Optimizer: Maximum iterations (200) reached and the optimization hasn't converged yet.\n",
            "  % self.max_iter, ConvergenceWarning)\n"
          ]
        },
        {
          "output_type": "execute_result",
          "data": {
            "text/plain": [
              "{'Accuracy': [0.8,\n",
              "  0.8166666666666667,\n",
              "  0.75,\n",
              "  0.6833333333333333,\n",
              "  0.7666666666666667,\n",
              "  0.6666666666666666,\n",
              "  0.7333333333333333,\n",
              "  0.7333333333333333,\n",
              "  0.7,\n",
              "  0.75],\n",
              " 'Modelling Algorithm': ['LogisticRegression',\n",
              "  'LinearSVM',\n",
              "  'rbfSVM',\n",
              "  'KNearestNeighbors',\n",
              "  'RandomForestClassifier',\n",
              "  'DecisionTree',\n",
              "  'GradientBoostingClassifier',\n",
              "  'ANN',\n",
              "  'GaussianNB',\n",
              "  'AdaBoostClassifier']}"
            ]
          },
          "metadata": {},
          "execution_count": 12
        }
      ]
    },
    {
      "cell_type": "code",
      "metadata": {
        "colab": {
          "base_uri": "https://localhost:8080/",
          "height": 359
        },
        "id": "730V_sfk8AuL",
        "outputId": "dcb3317a-75b2-4df0-a780-8a0ae420330f"
      },
      "source": [
        "acc_table=pd.DataFrame(eval_acc)\n",
        "acc_table = acc_table.sort_values(by='Accuracy', ascending=[False])\n",
        "acc_table"
      ],
      "execution_count": 8,
      "outputs": [
        {
          "output_type": "execute_result",
          "data": {
            "text/html": [
              "<div>\n",
              "<style scoped>\n",
              "    .dataframe tbody tr th:only-of-type {\n",
              "        vertical-align: middle;\n",
              "    }\n",
              "\n",
              "    .dataframe tbody tr th {\n",
              "        vertical-align: top;\n",
              "    }\n",
              "\n",
              "    .dataframe thead th {\n",
              "        text-align: right;\n",
              "    }\n",
              "</style>\n",
              "<table border=\"1\" class=\"dataframe\">\n",
              "  <thead>\n",
              "    <tr style=\"text-align: right;\">\n",
              "      <th></th>\n",
              "      <th>Modelling Algorithm</th>\n",
              "      <th>Accuracy</th>\n",
              "    </tr>\n",
              "  </thead>\n",
              "  <tbody>\n",
              "    <tr>\n",
              "      <th>1</th>\n",
              "      <td>LinearSVM</td>\n",
              "      <td>0.816667</td>\n",
              "    </tr>\n",
              "    <tr>\n",
              "      <th>0</th>\n",
              "      <td>LogisticRegression</td>\n",
              "      <td>0.800000</td>\n",
              "    </tr>\n",
              "    <tr>\n",
              "      <th>4</th>\n",
              "      <td>RandomForestClassifier</td>\n",
              "      <td>0.783333</td>\n",
              "    </tr>\n",
              "    <tr>\n",
              "      <th>7</th>\n",
              "      <td>ANN</td>\n",
              "      <td>0.783333</td>\n",
              "    </tr>\n",
              "    <tr>\n",
              "      <th>2</th>\n",
              "      <td>rbfSVM</td>\n",
              "      <td>0.750000</td>\n",
              "    </tr>\n",
              "    <tr>\n",
              "      <th>9</th>\n",
              "      <td>AdaBoostClassifier</td>\n",
              "      <td>0.750000</td>\n",
              "    </tr>\n",
              "    <tr>\n",
              "      <th>6</th>\n",
              "      <td>GradientBoostingClassifier</td>\n",
              "      <td>0.733333</td>\n",
              "    </tr>\n",
              "    <tr>\n",
              "      <th>8</th>\n",
              "      <td>GaussianNB</td>\n",
              "      <td>0.700000</td>\n",
              "    </tr>\n",
              "    <tr>\n",
              "      <th>3</th>\n",
              "      <td>KNearestNeighbors</td>\n",
              "      <td>0.683333</td>\n",
              "    </tr>\n",
              "    <tr>\n",
              "      <th>5</th>\n",
              "      <td>DecisionTree</td>\n",
              "      <td>0.666667</td>\n",
              "    </tr>\n",
              "  </tbody>\n",
              "</table>\n",
              "</div>"
            ],
            "text/plain": [
              "          Modelling Algorithm  Accuracy\n",
              "1                   LinearSVM  0.816667\n",
              "0          LogisticRegression  0.800000\n",
              "4      RandomForestClassifier  0.783333\n",
              "7                         ANN  0.783333\n",
              "2                      rbfSVM  0.750000\n",
              "9          AdaBoostClassifier  0.750000\n",
              "6  GradientBoostingClassifier  0.733333\n",
              "8                  GaussianNB  0.700000\n",
              "3           KNearestNeighbors  0.683333\n",
              "5                DecisionTree  0.666667"
            ]
          },
          "metadata": {},
          "execution_count": 8
        }
      ]
    },
    {
      "cell_type": "code",
      "metadata": {
        "colab": {
          "base_uri": "https://localhost:8080/",
          "height": 302
        },
        "id": "tXc5coTm8J6d",
        "outputId": "c6ea3ae9-9ba1-497a-f4e4-b4aeaba0fa1f"
      },
      "source": [
        "sns.barplot(y='Modelling Algorithm',x='Accuracy',data=acc_table)"
      ],
      "execution_count": null,
      "outputs": [
        {
          "output_type": "execute_result",
          "data": {
            "text/plain": [
              "<matplotlib.axes._subplots.AxesSubplot at 0x7f874281a5d0>"
            ]
          },
          "metadata": {},
          "execution_count": 46
        },
        {
          "output_type": "display_data",
          "data": {
            "image/png": "[encoded data removed]",
            "text/plain": [
              "<Figure size 432x288 with 1 Axes>"
            ]
          },
          "metadata": {
            "needs_background": "light"
          }
        }
      ]
    },
    {
      "cell_type": "markdown",
      "metadata": {
        "id": "9iloFFJZ57eX"
      },
      "source": [
        "Dari diagram di atas terlihat bahwa akurasi Random Forest Classifier (ensemble) lebih tinggi dari pada Decision Tree (single predictor)"
      ]
    },
    {
      "cell_type": "markdown",
      "metadata": {
        "id": "X_TolOCgXSVa"
      },
      "source": [
        "## Ensemble"
      ]
    },
    {
      "cell_type": "markdown",
      "metadata": {
        "id": "fLZIT3rX7t-1"
      },
      "source": [
        "### Bagging Classifier"
      ]
    },
    {
      "cell_type": "code",
      "metadata": {
        "colab": {
          "base_uri": "https://localhost:8080/"
        },
        "id": "lk4l88nSXVW8",
        "outputId": "82d8fc82-0b7a-44bf-b8fb-f23f73620fb1"
      },
      "source": [
        "#from sklearn import datasets\n",
        "from sklearn.linear_model import LogisticRegression\n",
        "from sklearn.pipeline import make_pipeline\n",
        "from sklearn.ensemble import BaggingClassifier\n",
        "\n",
        "# Pipeline Estimator\n",
        "#\n",
        "pipeline = make_pipeline(StandardScaler(),\n",
        "                        LogisticRegression(random_state=1))\n",
        "#\n",
        "# Fit the model\n",
        "#\n",
        "pipeline.fit(x_train, y_train)\n",
        "#\n",
        "# Model scores on test and training data\n",
        "\n",
        "\n",
        "print('Model test Score: %.3f, ' %pipeline.score(x_test, y_test),\n",
        "      'Model training Score: %.3f' %pipeline.score(x_train, y_train))"
      ],
      "execution_count": 11,
      "outputs": [
        {
          "output_type": "stream",
          "name": "stdout",
          "text": [
            "Model test Score: 0.800,  Model training Score: 0.866\n"
          ]
        }
      ]
    },
    {
      "cell_type": "markdown",
      "metadata": {
        "id": "J1DAQ9L66fxR"
      },
      "source": [
        "Dari hasil akurasi Bagging Classifier (ensemble) terlihat lebih tinggi dari pada Logistic Regression (Single predictor)"
      ]
    },
    {
      "cell_type": "markdown",
      "metadata": {
        "id": "dPx4t43p70mX"
      },
      "source": [
        "### Random Forest Classifier"
      ]
    },
    {
      "cell_type": "code",
      "metadata": {
        "colab": {
          "base_uri": "https://localhost:8080/"
        },
        "id": "A4594d1giMC8",
        "outputId": "c595acbb-12f6-441b-dd86-f0db08cf4ed0"
      },
      "source": [
        "from sklearn.ensemble import RandomForestClassifier\n",
        "\n",
        "# Create an instance of Random Forest Classifier\n",
        "#\n",
        "forest = RandomForestClassifier(criterion='gini',\n",
        "                                 n_estimators=5,\n",
        "                                 random_state=1,\n",
        "                                 n_jobs=2)\n",
        "\n",
        "# Fit the model\n",
        "\n",
        "forest.fit(x_train, y_train)\n",
        " \n",
        "## Measure model performance\n",
        "\n",
        "y_predTrain = forest.predict(x_train)\n",
        "y_predTest = forest.predict(x_test)\n",
        "\n",
        "\n",
        "\n",
        "print('Model training Score: %.3f' % accuracy_score(y_train, y_predTrain),\n",
        "      'Model test Score: %.3f' %accuracy_score(y_test, y_predTest))"
      ],
      "execution_count": 17,
      "outputs": [
        {
          "output_type": "stream",
          "name": "stdout",
          "text": [
            "Model training Score: 0.979 Model test Score: 0.750\n"
          ]
        }
      ]
    },
    {
      "cell_type": "markdown",
      "metadata": {
        "id": "EVp0x8F9_AAR"
      },
      "source": [
        "### Gradient Boosting Classifier"
      ]
    },
    {
      "cell_type": "code",
      "metadata": {
        "colab": {
          "base_uri": "https://localhost:8080/"
        },
        "id": "frQ0Cltu-tV_",
        "outputId": "7d8a1bb6-ab73-47fd-c79c-3899f735bd57"
      },
      "source": [
        "from sklearn.ensemble import GradientBoostingClassifier\n",
        "\n",
        "clf = GradientBoostingClassifier(n_estimators=100, \n",
        "                                 learning_rate=1.0, max_depth=1, \n",
        "                                 random_state=0).fit(x_train, y_train)\n",
        "#clf.score(x_test, y_test)\n",
        "y_predTrain = clf.predict(x_train)\n",
        "y_predTest = clf.predict(x_test)\n",
        "\n",
        "\n",
        "\n",
        "print('Model training Score: %.3f' % accuracy_score(y_train, y_predTrain),\n",
        "      'Model test Score: %.3f' %accuracy_score(y_test, y_predTest))"
      ],
      "execution_count": 18,
      "outputs": [
        {
          "output_type": "stream",
          "name": "stdout",
          "text": [
            "Model training Score: 0.996 Model test Score: 0.750\n"
          ]
        }
      ]
    },
    {
      "cell_type": "markdown",
      "metadata": {
        "id": "Y3WnK6XK_0ZV"
      },
      "source": [
        "### AdaBoost"
      ]
    },
    {
      "cell_type": "code",
      "metadata": {
        "colab": {
          "base_uri": "https://localhost:8080/"
        },
        "id": "m9dGVsfG_2Dk",
        "outputId": "b929786b-aa5b-4e6f-f607-c697c7ed7df5"
      },
      "source": [
        "from sklearn.model_selection import cross_val_score\n",
        "from sklearn.ensemble import AdaBoostClassifier\n",
        "\n",
        "clf = AdaBoostClassifier(n_estimators=100).fit(x_train, y_train)\n",
        "\n",
        "y_predTrain = clf.predict(x_train)\n",
        "y_predTest = clf.predict(x_test)\n",
        "\n",
        "\n",
        "\n",
        "print('Model training Score: %.3f' % accuracy_score(y_train, y_predTrain),\n",
        "      'Model test Score: %.3f' %accuracy_score(y_test, y_predTest))"
      ],
      "execution_count": 19,
      "outputs": [
        {
          "output_type": "stream",
          "name": "stdout",
          "text": [
            "Model training Score: 0.996 Model test Score: 0.733\n"
          ]
        }
      ]
    },
    {
      "cell_type": "markdown",
      "metadata": {
        "id": "jEziBWI5A_Jt"
      },
      "source": [
        "### Gradient Tree Boosting Classification"
      ]
    },
    {
      "cell_type": "code",
      "metadata": {
        "colab": {
          "base_uri": "https://localhost:8080/"
        },
        "id": "SnNak_jzBH8y",
        "outputId": "c97e7d60-8acf-42bd-f795-d338347a4498"
      },
      "source": [
        "from sklearn.ensemble import GradientBoostingClassifier\n",
        "\n",
        "clf = GradientBoostingClassifier(n_estimators=100, learning_rate=1.0,\n",
        "     max_depth=1, random_state=0).fit(x_train, y_train)\n",
        "\n",
        "y_predTrain = clf.predict(x_train)\n",
        "y_predTest = clf.predict(x_test)\n",
        "\n",
        "\n",
        "\n",
        "print('Model training Score: %.3f' % accuracy_score(y_train, y_predTrain),\n",
        "      'Model test Score: %.3f' %accuracy_score(y_test, y_predTest))"
      ],
      "execution_count": 20,
      "outputs": [
        {
          "output_type": "stream",
          "name": "stdout",
          "text": [
            "Model training Score: 0.996 Model test Score: 0.750\n"
          ]
        }
      ]
    },
    {
      "cell_type": "markdown",
      "metadata": {
        "id": "sc5MoQlhPZSj"
      },
      "source": [
        "### Histogram-Based Gradient Boosting"
      ]
    },
    {
      "cell_type": "code",
      "metadata": {
        "colab": {
          "base_uri": "https://localhost:8080/"
        },
        "id": "50dUpzkNHYFN",
        "outputId": "a0f5762c-2d20-4e14-e86f-6065549155ff"
      },
      "source": [
        "from sklearn.experimental import enable_hist_gradient_boosting\n",
        "from sklearn.ensemble import HistGradientBoostingClassifier\n",
        "\n",
        "clf = HistGradientBoostingClassifier(max_iter=100).fit(x_train, y_train)\n",
        "y_predTrain = clf.predict(x_train)\n",
        "y_predTest = clf.predict(x_test)\n",
        "\n",
        "\n",
        "\n",
        "print('Model training Score: %.3f' % accuracy_score(y_train, y_predTrain),\n",
        "      'Model test Score: %.3f' %accuracy_score(y_test, y_predTest))"
      ],
      "execution_count": 21,
      "outputs": [
        {
          "output_type": "stream",
          "name": "stdout",
          "text": [
            "Model training Score: 1.000 Model test Score: 0.750\n"
          ]
        }
      ]
    },
    {
      "cell_type": "markdown",
      "metadata": {
        "id": "RHXY_hExPjGI"
      },
      "source": [
        "### Voting Classifier"
      ]
    },
    {
      "cell_type": "code",
      "metadata": {
        "colab": {
          "base_uri": "https://localhost:8080/"
        },
        "id": "tmGAcv-tnGM_",
        "outputId": "7e44ccc3-90c8-4aa7-c040-5c129875f70a"
      },
      "source": [
        "from sklearn.model_selection import cross_val_score\n",
        "from sklearn.linear_model import LogisticRegression\n",
        "from sklearn.naive_bayes import GaussianNB\n",
        "from sklearn.ensemble import RandomForestClassifier\n",
        "from sklearn.ensemble import VotingClassifier\n",
        "\n",
        "clf1 = LogisticRegression(random_state=1)\n",
        "clf2 = RandomForestClassifier(n_estimators=50, random_state=1)\n",
        "clf3 = GaussianNB()\n",
        "\n",
        "eclf = VotingClassifier(\n",
        "     estimators=[('lr', clf1), ('rf', clf2), ('gnb', clf3)],\n",
        "     voting='hard')\n",
        "\n",
        "for clf, label in zip([clf1, clf2, clf3, eclf], ['Logistic Regression', 'Random Forest', 'naive Bayes', 'Ensemble']):\n",
        "     scores = cross_val_score(clf, x_train, y_train, scoring='accuracy', cv=5)\n",
        "     print(\"Accuracy: %0.2f (+/- %0.2f) [%s]\" % (scores.mean(), scores.std(), label))"
      ],
      "execution_count": 12,
      "outputs": [
        {
          "output_type": "stream",
          "name": "stdout",
          "text": [
            "Accuracy: 0.83 (+/- 0.06) [Logistic Regression]\n",
            "Accuracy: 0.87 (+/- 0.06) [Random Forest]\n",
            "Accuracy: 0.78 (+/- 0.05) [naive Bayes]\n",
            "Accuracy: 0.84 (+/- 0.07) [Ensemble]\n"
          ]
        }
      ]
    },
    {
      "cell_type": "markdown",
      "metadata": {
        "id": "GFSzl6fT0uGm"
      },
      "source": [
        "### Stacked Classifier"
      ]
    },
    {
      "cell_type": "code",
      "metadata": {
        "colab": {
          "base_uri": "https://localhost:8080/"
        },
        "id": "51o4TytGu56H",
        "outputId": "1fa1faf0-2fea-43b8-d156-721265d401a2"
      },
      "source": [
        "from sklearn.ensemble import RandomForestClassifier\n",
        "from sklearn.svm import LinearSVC\n",
        "from sklearn.linear_model import LogisticRegression\n",
        "from sklearn.preprocessing import StandardScaler\n",
        "from sklearn.pipeline import make_pipeline\n",
        "from sklearn.ensemble import StackingClassifier\n",
        "\n",
        "estimators = [\n",
        "     ('rf', RandomForestClassifier(n_estimators=10, random_state=42)),\n",
        "     ('svm', LinearSVC(max_iter=10000))\n",
        "      ]\n",
        "clf = StackingClassifier(\n",
        "     estimators=estimators, final_estimator=LogisticRegression()\n",
        " )\n",
        "\n",
        "clf.fit(x_train, y_train)\n",
        "y_predTrain = clf.predict(x_train)\n",
        "y_predTest = clf.predict(x_test)\n",
        "\n",
        "print('Stacked Classifier:\\n> Accuracy on training data = {:.4f}\\n> Accuracy on test data = {:.4f}'.format(\n",
        "    accuracy_score(y_train, y_predTrain),\n",
        "    accuracy_score(y_test, y_predTest)\n",
        "))"
      ],
      "execution_count": 8,
      "outputs": [
        {
          "output_type": "stream",
          "name": "stdout",
          "text": [
            "Stacked Classifier:\n",
            "> Accuracy on training data = 0.9456\n",
            "> Accuracy on test data = 0.7667\n"
          ]
        }
      ]
    }
  ]
}